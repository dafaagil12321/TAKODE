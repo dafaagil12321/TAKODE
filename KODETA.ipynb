{
  "cells": [
    {
      "cell_type": "markdown",
      "metadata": {
        "id": "view-in-github",
        "colab_type": "text"
      },
      "source": [
        "<a href=\"https://colab.research.google.com/github/dafaagil12321/TAKODE/blob/main/KODETA.ipynb\" target=\"_parent\"><img src=\"https://colab.research.google.com/assets/colab-badge.svg\" alt=\"Open In Colab\"/></a>"
      ]
    },
    {
      "cell_type": "code",
      "source": [
        "from math import pi\n",
        "from math import sqrt\n",
        "import matplotlib.pyplot as plt\n",
        "import numpy as np\n",
        "import scipy"
      ],
      "metadata": {
        "id": "Rxfpt-_qn3FE"
      },
      "execution_count": null,
      "outputs": []
    },
    {
      "cell_type": "code",
      "source": [
        "kcay =3*(10**8)\n",
        "lamb= 800*(10**(-9))\n",
        "lamb\n",
        "omglamb= (2*np.pi*kcay/lamb)/(4.134*(10**16))\n",
        "omglamb"
      ],
      "metadata": {
        "id": "6L8l-4HEn6P6",
        "colab": {
          "base_uri": "https://localhost:8080/"
        },
        "outputId": "1488d389-af6a-42cf-e555-524f44c0ae38"
      },
      "execution_count": null,
      "outputs": [
        {
          "output_type": "execute_result",
          "data": {
            "text/plain": [
              "0.0569955125832691"
            ]
          },
          "metadata": {},
          "execution_count": 40
        }
      ]
    },
    {
      "cell_type": "code",
      "execution_count": null,
      "metadata": {
        "id": "tXUfeTO8iv43"
      },
      "outputs": [],
      "source": [
        "class Params:\n",
        "    \"\"\"Container for holding all simulation parameters.\"\"\"\n",
        "    def __init__(self,\n",
        "                 xmax: float,\n",
        "                 #res: int,\n",
        "                 #dt: float,\n",
        "                 #timesteps: int,\n",
        "                 im_time: bool) -> None:\n",
        "\n",
        "        self.xmax = xmax\n",
        "\n",
        "        # self.period = 32.97*41\n",
        "        # self.omega = 0.0225\n",
        "        # self.period = 2 * np.pi/ self.omega\n",
        "        self.omega = omglamb\n",
        "        # self.omega2 = self.omega * 0.4\n",
        "        self.period = 2 * np.pi/ self.omega\n",
        "        # self.period2 = 2 * np.pi/ self.omega2\n",
        "        # self.tau =0.05*self.period\n",
        "        self.tmax = 8*self.period\n",
        "        self.dt = 0.05\n",
        "        self.timesteps = int(self.tmax / self.dt)\n",
        "        self.im_time = im_time\n",
        "\n",
        "\n",
        "        self.dx = 0.01 #2 * xmax / res\n",
        "        self.res = int(2*self.xmax/self.dx)\n",
        "        self.x = np.arange(-xmax, xmax, self.dx)\n",
        "        self.dk = pi / xmax\n",
        "        self.k = np.concatenate((np.arange(0, self.res / 2),\n",
        "                                 np.arange(-self.res / 2, 0))) * self.dk"
      ]
    },
    {
      "cell_type": "code",
      "execution_count": null,
      "metadata": {
        "id": "2aQfQLxCHgjt"
      },
      "outputs": [],
      "source": [
        "# Matriks tridiagonal\n",
        "def tridag(a,b,c,u,n,ng):\n",
        "    temp=b[0]\n",
        "    u[0]=u[0]/temp\n",
        "    for j in range(1,n):\n",
        "        temp1 = b[j]\n",
        "        b[j]  = c/temp\n",
        "        temp  = temp1-a*b[j]\n",
        "        u[j]  = (u[j]-a*u[j-1])/temp\n",
        "    for j in range (n-2,-1,-1):\n",
        "        u[j]  = u[j]-b[j+1]*u[j+1]\n",
        "    return u\n",
        "\n",
        "# rumus filter untuk potensial 1 dimensi\n",
        "def filter1D(dx,vpot,psi,energy,n,k):\n",
        "    dx2 = dx*dx\n",
        "    a = -0.5/dx2\n",
        "    c = a\n",
        "    odx2 = 1/dx2\n",
        "    b=np.zeros(n)\n",
        "    #k adalah jumlah perulangan filter\n",
        "    for k in range(0,5):\n",
        "        for i in range(0,n):\n",
        "            b[i] = (odx2+vpot[i]-energy)\n",
        "        global tridag\n",
        "        psi = tridag(a,b,c,psi,n,n)\n",
        "    fnorm = sum(psi*psi)*dx\n",
        "    psi = psi / (fnorm**0.5)\n",
        "    return psi\n",
        "\n",
        "# rumusan hamiltonian\n",
        "def hamiltonian(dx,vpot,psi,ng):\n",
        "    dx2 = dx*dx\n",
        "    a =-0.5/dx2\n",
        "    c = a\n",
        "    odx = 1/dx2\n",
        "    u = np.zeros(ng)\n",
        "    u[0] =((odx+vpot[0])*psi[0] + c*psi[1])\n",
        "    for i in range (1,ng-1):\n",
        "        u[i] = (a*psi[i-1]+(odx+vpot[i])*psi[i]+c*psi[i+1])\n",
        "    u[-1]=((a*psi[-2])+(odx+vpot[-1])*psi[-1])\n",
        "    psiu = psi*u\n",
        "    energy_new = sum(psiu)*dx\n",
        "    return energy_new\n",
        "\n",
        "# Rumusan eigenstate\n",
        "def eigenState(x, ngrid, vpot, initE, dx):\n",
        "    if initE <= 0 :\n",
        "        initE = initE + 1e-12\n",
        "    x_tart = x[0]\n",
        "    x_end = x[ngrid - 1]\n",
        "    psi = np.zeros(ngrid)\n",
        "    if x_tart < 0:\n",
        "        for i in range(0,ngrid):\n",
        "            psi[i] = (np.sin(x[i]) + np.cos(x[i]))\n",
        "    else:\n",
        "        for i in range(0,ngrid):\n",
        "           psi[i] = 1 + x[i] / x_end\n",
        "    #psi=np.linspace(1,1,ngrid) + x/x[-1]\n",
        "    energy = initE\n",
        "    error = 1e3\n",
        "    loop = 1\n",
        "    while error>1e-10:\n",
        "        nloop = 10\n",
        "        if loop ==1:\n",
        "            nloop = 10 #nloop\n",
        "        global filter1D\n",
        "        global hamiltonian\n",
        "        psi = filter1D(dx,vpot,psi,energy,ngrid,nloop)\n",
        "        energy_new =  hamiltonian(dx,vpot,psi,ngrid)\n",
        "        error = abs(energy_new-energy)#/energy\n",
        "        energy = energy_new\n",
        "        loop = loop+1\n",
        "    output = [energy_new,psi]\n",
        "    return output"
      ]
    },
    {
      "cell_type": "code",
      "execution_count": null,
      "metadata": {
        "id": "0m7zSyskHhfS"
      },
      "outputs": [],
      "source": [
        "par = Params(512,False)"
      ]
    },
    {
      "cell_type": "code",
      "execution_count": null,
      "metadata": {
        "id": "FDghWr0PIEik"
      },
      "outputs": [],
      "source": [
        "xmin = -par.xmax\n",
        "xmax = par.xmax\n",
        "dx = par.dx\n",
        "x = par.x\n",
        "ngrid = par.res\n",
        "vpot1 = -1/((1.41 + par.x**2)**0.5)\n",
        "gradPot1 = par.x/(1.41 + par.x**2)**1.5"
      ]
    },
    {
      "cell_type": "code",
      "execution_count": null,
      "metadata": {
        "id": "93HO-QduIMaD"
      },
      "outputs": [],
      "source": [
        "initE = -0.5799\n",
        "E1, psi1 = eigenState(x, ngrid,vpot1, initE, dx)"
      ]
    },
    {
      "cell_type": "code",
      "execution_count": null,
      "metadata": {
        "id": "0oQVbNBQ8bC_",
        "colab": {
          "base_uri": "https://localhost:8080/"
        },
        "outputId": "076e3bcc-6514-4689-efa1-6d26467cb76e"
      },
      "outputs": [
        {
          "output_type": "execute_result",
          "data": {
            "text/plain": [
              "-0.5799127660476454"
            ]
          },
          "metadata": {},
          "execution_count": 46
        }
      ],
      "source": [
        "E1"
      ]
    },
    {
      "cell_type": "code",
      "execution_count": null,
      "metadata": {
        "id": "HQOlr5CnxqKV",
        "colab": {
          "base_uri": "https://localhost:8080/",
          "height": 504
        },
        "outputId": "9d8feccc-d17e-433a-9feb-bb1601561039"
      },
      "outputs": [
        {
          "output_type": "stream",
          "name": "stderr",
          "text": [
            "/var/tmp/pbs.7032.nebula/ipykernel_111447/4231770195.py:4: UserWarning: No artists with labels found to put in legend.  Note that artists whose label start with an underscore are ignored when legend() is called with no argument.\n",
            "  plt.legend()\n"
          ]
        },
        {
          "output_type": "display_data",
          "data": {
            "text/plain": [
              "<Figure size 640x480 with 1 Axes>"
            ],
            "image/png": "[encoded data removed]"
          },
          "metadata": {}
        }
      ],
      "source": [
        "plt.plot(x,vpot1,  color = 'green')\n",
        "plt.ylabel(\"V(x)\")\n",
        "plt.xlabel(\"x (a.u)\")\n",
        "plt.legend()\n",
        "plt.grid()\n",
        "plt.show()"
      ]
    },
    {
      "cell_type": "code",
      "execution_count": null,
      "metadata": {
        "id": "aLw-nAVVTXtL"
      },
      "outputs": [],
      "source": [
        "def cosine_mask():\n",
        "    edge_width = 3100\n",
        "    mask = np.ones(len(par.x))\n",
        "    edge_indices = np.arange(edge_width)\n",
        "    edge_values = 0.5 - 0.5 * np.cos(np.pi * edge_indices / edge_width)\n",
        "    mask[:edge_width] = edge_values\n",
        "    mask[-edge_width:] = edge_values[::-1]\n",
        "    return mask"
      ]
    },
    {
      "cell_type": "markdown",
      "source": [],
      "metadata": {
        "id": "vZwrfEit7lZf"
      }
    },
    {
      "cell_type": "code",
      "execution_count": null,
      "metadata": {
        "id": "S11GYUYyIeuF"
      },
      "outputs": [],
      "source": [
        "def wavefunction(opr_psi, opr_V,):\n",
        "\n",
        "    opr_K = np.exp(-0.5*(par.k ** 2) * par.dt * 1j)\n",
        "    opr_R = np.exp(-0.5 * opr_V * par.dt * 1j)\n",
        "\n",
        "    # Half-step in real space\n",
        "    opr_psi *= opr_R\n",
        "\n",
        "    # FFT to momentum space\n",
        "    opr_psi = np.fft.fft(opr_psi)\n",
        "\n",
        "    # Full step in momentum space\n",
        "    opr_psi *= opr_K\n",
        "    # iFFT back\n",
        "    opr_psi = np.fft.ifft(opr_psi)\n",
        "\n",
        "    # Final half-step in real space\n",
        "    opr_psi *= opr_R\n",
        "\n",
        "    opr_psi *= cosine_mask()\n",
        "\n",
        "    return opr_psi"
      ]
    },
    {
      "cell_type": "code",
      "source": [
        "int1=2*10**14\n",
        "int2=2*10**13\n",
        "# beta = int2/int1\n",
        "beta =0\n",
        "phi = 0\n",
        "r1 = 1\n",
        "s1 = 0\n",
        "perm=(8.85419)*(10**(-12))\n",
        "# perm=(8.854)*(10**(-12))\n",
        "kcah =3*(10**8)\n",
        "it =2*10**18\n",
        "its=(2*it)/(np.abs(perm)*(kcah**1))\n",
        "FA = (np.sqrt(its))/(5.14221*10**11)\n",
        "FA2 =(np.sqrt(its*beta))/(5.14221*10**11)\n",
        "Epeak = FA/(sqrt(1+beta**2))\n",
        "print(FA)\n",
        "print(Epeak)\n",
        "itau = (2*10**14)/(3.5094*10**16)\n",
        "itau\n",
        "print(beta)"
      ],
      "metadata": {
        "id": "w9HDNFVt81gw",
        "colab": {
          "base_uri": "https://localhost:8080/"
        },
        "outputId": "dcd75798-8e22-4808-eb57-d547311a98b2"
      },
      "execution_count": null,
      "outputs": [
        {
          "output_type": "stream",
          "name": "stdout",
          "text": [
            "0.07546492436850664\n",
            "0.07546492436850664\n",
            "0\n"
          ]
        }
      ]
    },
    {
      "cell_type": "code",
      "execution_count": null,
      "metadata": {
        "id": "pPVIbzBqfVcx"
      },
      "outputs": [],
      "source": [
        "def main(vpot, gradPot, psi):\n",
        "    ngrid = len(psi)  # Jumlah grid, mungkin perlu disesuaikan\n",
        "    psin = np.zeros((par.timesteps, ngrid), dtype=complex)\n",
        "    acc = np.zeros((par.timesteps))\n",
        "    acc2 = np.zeros((par.timesteps))\n",
        "    pn0 = np.zeros((par.timesteps))\n",
        "    norm = np.zeros((par.timesteps))\n",
        "    hx = np.zeros((par.timesteps))\n",
        "    EM = np.zeros((par.timesteps))\n",
        "    vtot = np.zeros((par.timesteps, ngrid))\n",
        "    psin[0] = psi\n",
        "\n",
        "    time = np.zeros(par.timesteps)\n",
        "    t = 0\n",
        "\n",
        "    for i in range(par.timesteps-1):\n",
        "        if 0 <= t < par.period:\n",
        "            Em = Epeak*((np.sin(np.pi*t/(2*par.period)))**2)*(np.cos(r1*par.omega*t)+beta*np.cos(s1*par.omega*t+phi))\n",
        "        elif par.period <= t <= 7*par.period:\n",
        "            Em = (Epeak*(np.cos(r1*par.omega*t)+beta*np.cos(s1*par.omega*t+phi)))\n",
        "        elif 7*par.period < t <= 8*par.period:\n",
        "            Em = (Epeak*(((np.sin(((np.pi*t)-(0))/(2*par.period)))**2))*(np.cos(r1*par.omega*t)+beta*np.cos(s1*par.omega*t+phi)))\n",
        "        else:\n",
        "            Em = 0\n",
        "        V = vpot - Em*par.x\n",
        "\n",
        "        acc[i] = sum(np.real(np.conj(psin[i])*gradPot*psin[i]))*par.dx\n",
        "        pn0[i] = np.abs(np.sum(psin[i] * psi) * par.dx)**2\n",
        "        norm[i] = np.abs(np.sum(psin[i] * psin[i]) * par.dx)**2\n",
        "        hx[i] = sum(np.real(np.conj(psin[i])*par.x*psin[i]))*par.dx\n",
        "        EM[i] = Em\n",
        "        psi_new = wavefunction(psin[i], V)\n",
        "        time[i] = t\n",
        "        vtot[i] = V\n",
        "        gradV = np.gradient(V, dx)\n",
        "        acc2[i] = sum(np.real(np.conj(psin[i])*gradV*psin[i]))*par.dx\n",
        "        psin[i + 1] = psi_new\n",
        "        t = t + par.dt\n",
        "\n",
        "\n",
        "    return time, psin, vtot, acc, pn0, norm, hx, EM, acc2"
      ]
    },
    {
      "cell_type": "code",
      "execution_count": null,
      "metadata": {
        "id": "3OcTsqk6gBIS"
      },
      "outputs": [],
      "source": [
        "# time, psi1n, vtot1, acc1, pn01, norm, traj1, Em, acc21 = main(vpot1,gradPot1,psi1)"
      ]
    },
    {
      "cell_type": "code",
      "execution_count": null,
      "metadata": {
        "id": "vLQ5W2fQBY3b"
      },
      "outputs": [],
      "source": [
        "# if beta == 0 or beta == 1:\n",
        "#   nama_file = f\"hhg2 s {s1}.dat\"\n",
        "# else:\n",
        "#   nama_file = f\"hhg2 beta {beta} s{s1}.dat\"\n",
        "\n",
        "# with open(nama_file, 'a') as f:\n",
        "#  for i in range(par.timesteps):\n",
        "#    f.write(f\"{time[i]} {acc1[i]} {pn01[i]} {traj1[i]} {Em[i]} {norm[i]} {acc21[i]} {psi1n[i]} \\n\")"
      ]
    },
    {
      "cell_type": "code",
      "source": [
        "# Mengatur nama file yang ingin dibaca\n",
        "if beta == 0 or beta == 1:\n",
        "    nama_file = f\"hhg2 s {s1}.dat\"\n",
        "else:\n",
        "    nama_file = f\"hhg2 beta {beta} s{s1}.dat\"\n",
        "\n",
        "# Menginisialisasi list untuk menyimpan data\n",
        "data = []\n",
        "\n",
        "# Membaca data dari file .dat\n",
        "try:\n",
        "    with open(nama_file, 'r') as f:\n",
        "        lines = f.readlines()[:-4]  # Membaca semua kecuali baris terakhir\n",
        "\n",
        "        for line in lines:\n",
        "            # Memecah setiap baris berdasarkan spasi\n",
        "            values = line.split()\n",
        "\n",
        "            # Mengecek apakah jumlah elemen cukup (minimal 7 kolom, tanpa psi1n)\n",
        "            if len(values) >= 7:\n",
        "                # Mengonversi nilai ke dalam tipe float untuk kolom yang diinginkan\n",
        "                time = float(values[0])\n",
        "                acc1 = float(values[1])\n",
        "                pn01 = float(values[2])\n",
        "                traj1 = float(values[3])\n",
        "                Em = float(values[4])\n",
        "                norm = float(values[5])\n",
        "                acc21 = float(values[6])\n",
        "\n",
        "                # Menambahkan tuple tanpa psi1n\n",
        "                data.append((time, acc1, pn01, traj1, Em, norm, acc21))\n",
        "            else:\n",
        "                continue\n",
        "\n",
        "    # Mengonversi list data menjadi array numpy untuk kemudahan pemrosesan\n",
        "    data_array = np.array(data)\n",
        "\n",
        "    # Menyalin data kembali ke dalam variabel terpisah\n",
        "    time = data_array[:, 0]  # Kolom waktu\n",
        "    acc1 = data_array[:, 1]  # Kolom acc\n",
        "    pn01 = data_array[:, 2]  # Kolom probabilitas\n",
        "    traj1 = data_array[:, 3] # Kolom trajektori\n",
        "    Em = data_array[:, 4]    # Kolom Em\n",
        "    norm = data_array[:, 5]  # Kolom norm\n",
        "    acc21 = data_array[:, 6] # Kolom acc21\n",
        "\n",
        "    # Cetak beberapa data untuk memverifikasi hasilnya\n",
        "    print(\"Data waktu:\", time)\n",
        "    print(\"Data acc1:\", acc1)\n",
        "\n",
        "except FileNotFoundError:\n",
        "    print(f\"File {nama_file} tidak ditemukan.\")\n"
      ],
      "metadata": {
        "id": "zU4MrZTo8EMo",
        "colab": {
          "base_uri": "https://localhost:8080/"
        },
        "outputId": "e754387d-fd49-4b97-e59f-2dda91cfe1fd"
      },
      "execution_count": null,
      "outputs": [
        {
          "output_type": "stream",
          "name": "stdout",
          "text": [
            "Data waktu: [0.0000e+00 5.0000e-02 1.0000e-01 ... 8.8170e+02 8.8175e+02 8.8180e+02]\n",
            "Data acc1: [-2.83016945e-15 -2.81901575e-15  7.17623430e-12 ... -2.81722124e-03\n",
            " -2.93735805e-03 -3.05425221e-03]\n"
          ]
        }
      ]
    },
    {
      "cell_type": "code",
      "source": [
        "accnormed = acc21/np.sum(norm) #untuk spektrum\n",
        "t1 = time/par.period"
      ],
      "metadata": {
        "id": "J2HPHd9VJNzb"
      },
      "execution_count": null,
      "outputs": []
    },
    {
      "cell_type": "code",
      "source": [
        "# if beta == 0 or beta == 1:\n",
        "#   nama_file = f\"akseldanE{s1}.dat\"\n",
        "# else:\n",
        "#   nama_file = f\"amedanlistrikdanakselerasi{beta}s{s1}.dat\"\n",
        "\n",
        "# with open(nama_file, 'a') as f:\n",
        "#  for i in range(par.timesteps-1):\n",
        "#    f.write(f\"{time[i]} {acc1[i]} \\n\")"
      ],
      "metadata": {
        "id": "6s6J0HiNURt1"
      },
      "execution_count": null,
      "outputs": []
    },
    {
      "cell_type": "markdown",
      "metadata": {
        "id": "7qomCxxJ8Vrp"
      },
      "source": [
        "# **MEDAN LASER**"
      ]
    },
    {
      "cell_type": "code",
      "execution_count": null,
      "metadata": {
        "id": "tYjQ3SqgIWDY"
      },
      "outputs": [],
      "source": [
        "plt.plot(t1[:-1],Em[:-1], 'b')\n",
        "#plt.plot(t1[:-1],traj2[:-1],'-k')\n",
        "#plt.plot(t1[:-1],np.gradient(traj2[:-1])*100,'-k')\n",
        "plt.ylabel('Medan Listrik (a.u)')\n",
        "plt.xlabel('t (a.u)')\n",
        "plt.grid()\n",
        "plt.legend()\n",
        "plt.show()"
      ]
    },
    {
      "cell_type": "code",
      "execution_count": null,
      "metadata": {
        "id": "u2eWkyoP3A30"
      },
      "outputs": [],
      "source": [
        "plt.plot(t1[:-1],acc21[:-1],'-g')\n",
        "plt.xlabel('t (a.u)')\n",
        "plt.ylabel('acc (a.u)')\n",
        "plt.legend()\n",
        "plt.grid()\n",
        "plt.show()"
      ]
    },
    {
      "cell_type": "code",
      "execution_count": null,
      "metadata": {
        "id": "lploN4j86hwj",
        "colab": {
          "base_uri": "https://localhost:8080/"
        },
        "outputId": "d4df785c-8e05-4161-8262-06c10ce3c502"
      },
      "outputs": [
        {
          "output_type": "execute_result",
          "data": {
            "text/plain": [
              "17638"
            ]
          },
          "metadata": {},
          "execution_count": 63
        }
      ],
      "source": [
        "par.timesteps"
      ]
    },
    {
      "cell_type": "code",
      "source": [
        "\n",
        "rata_rata = np.mean([n for n in norm if n != 0])\n",
        "norm_koreksi = [n if n != 0 else rata_rata for n in norm]\n",
        "accnew = [a / n for a, n in zip(acc1, norm_koreksi)]\n"
      ],
      "metadata": {
        "id": "lvzFW52lUfKu"
      },
      "execution_count": null,
      "outputs": []
    },
    {
      "cell_type": "code",
      "execution_count": null,
      "metadata": {
        "id": "SsB5g7mWvQ9h"
      },
      "outputs": [],
      "source": [
        "\n",
        "def calculate_hhg_spectrum(t, acceleration_data):\n",
        "    fft_result = np.fft.fft(acceleration_data)\n",
        "    frequencies = np.fft.fftfreq(len(t), t[1] - t[0])\n",
        "    return frequencies, np.abs(fft_result)\n",
        "# Hitung spektrum HHG\n",
        "frekuensi, intensitas = calculate_hhg_spectrum(t1, acc1)\n",
        "\n",
        "# # Ubah ukuran gambar menjadi 10x5\n",
        "# plt.figure(figsize=(10, 8))\n",
        "\n",
        "# # Plot spektrum\n",
        "# plt.semilogy(frekuensi, intensitas,'-k')\n",
        "# plt.title('HHG Spectrum')\n",
        "# plt.xlabel('Frequency (a.u)')\n",
        "# plt.ylabel('Intensity (arb. unit)')\n",
        "# plt.xlim([0, 80])\n",
        "# #plt.ylim([0, 2])\n",
        "# # plt.axvline(x=35,color='r', linestyle='--')\n",
        "\n",
        "# plt.grid()\n",
        "# plt.show()\n"
      ]
    },
    {
      "cell_type": "code",
      "source": [
        "\n",
        "def calculate_hhg_spectrumtes(t, acceleration_data):\n",
        "    fft_result = np.fft.fft(acceleration_data)\n",
        "    frequencies = np.fft.fftfreq(len(t), t[1] - t[0])\n",
        "    return frequencies, np.abs(fft_result)**2\n",
        "    # return frequencies, np.abs(fft_result)\n",
        "# Hitung spektrum HHG\n",
        "frekuensinorm, intensitas_normalized_area = calculate_hhg_spectrumtes(t1, accnormed)\n",
        "\n",
        "# Ubah ukuran gambar menjadi 10x5\n",
        "plt.figure(figsize=(10, 8))\n",
        "\n",
        "# Plot spektrum\n",
        "plt.semilogy(frekuensinorm, intensitas_normalized_area,'-k')\n",
        "plt.title('HHG Spectrum')\n",
        "plt.xlabel('Harmonic Order')\n",
        "plt.ylabel('Intensity (arb. unit)')\n",
        "plt.xlim([0, 80])\n",
        "plt.grid()\n",
        "plt.show()\n"
      ],
      "metadata": {
        "id": "ncUkQTMgJsIS"
      },
      "execution_count": null,
      "outputs": []
    },
    {
      "cell_type": "code",
      "source": [
        "pendero1laser = (FA**2)/(4*(omglamb**2))\n",
        "print(pendero1laser)\n",
        "omege1 = r1*omglamb\n",
        "omege2 = s1*omglamb\n",
        "Efin= (FA**2)\n",
        "Efin2 =((FA)**2)*beta\n",
        "if beta == 0:\n",
        "  pendero2laser = pendero1laser\n",
        "elif beta == 1 :\n",
        "  pendero2laser = (Efin*((1/(((omege1)**2)))+(1/(((omege2)**2)))))/4\n",
        "else:\n",
        "  pendero2laser = (Efin*((1/(((omege1)**2)))+((Efin2/Efin)/(((omege2)**2)))))/4\n",
        "print(pendero2laser)"
      ],
      "metadata": {
        "id": "De4QFszKZUfJ"
      },
      "execution_count": null,
      "outputs": []
    },
    {
      "cell_type": "code",
      "source": [
        "ip = 0.5799\n",
        "ecut1 = ip + (3.17*pendero1laser)\n",
        "print(ecut1)\n",
        "ecut2 = ip + (3.17*pendero2laser)\n",
        "print(ecut2)"
      ],
      "metadata": {
        "id": "EHWo2pqIZaV5"
      },
      "execution_count": null,
      "outputs": []
    },
    {
      "cell_type": "code",
      "source": [
        "vis1 = 35\n",
        "ecutvis1 = vis1*omglamb\n",
        "print(ecutvis1)\n",
        "vis2 = 16\n",
        "ecutvis2 = vis2*((omege1+omege2)/2)\n",
        "print(ecutvis2)"
      ],
      "metadata": {
        "id": "k1rwzR3zcp3C"
      },
      "execution_count": null,
      "outputs": []
    },
    {
      "cell_type": "code",
      "source": [
        "should2 = ecut2/((omege1+omege2)/2)\n",
        "should1 = ecut1/omglamb\n",
        "print(should1)\n",
        "print(should2)\n",
        "if beta == 0:\n",
        "  cutofffrq = should1\n",
        "else:\n",
        "  cutofffrq = should2\n"
      ],
      "metadata": {
        "id": "zcqIXkxJZbKY"
      },
      "execution_count": null,
      "outputs": []
    },
    {
      "cell_type": "code",
      "source": [
        "import numpy as np\n",
        "import pandas as pd  # Import pandas for data handling\n",
        "\n",
        "# Rentang harmonik yang ingin dihitung (ganjil dari 1 hingga 35)\n",
        "harmonik_range = range(1, 46, 2)  # Ganjil dari 1 hingga 35\n",
        "omeges = 1\n",
        "omegas = omglamb\n",
        "# Siapkan list untuk menyimpan hasil efisiensi\n",
        "results = []  # Menggunakan list untuk menyimpan hasil\n",
        "maskfund = (frekuensinorm >= 0.5) & (frekuensinorm <= 1.5)\n",
        "intensitas_fundamental = intensitas_normalized_area[maskfund]\n",
        "\n",
        "for n in harmonik_range:\n",
        "    # Tentukan rentang harmonik berdasarkan n\n",
        "    harmonik_ke = [n - 0.5, n + 0.5]\n",
        "\n",
        "    if beta == 0:\n",
        "        freq_range = [harmonik_ke[0] * omeges, harmonik_ke[1] * omeges]\n",
        "    else:\n",
        "        freq_range = [harmonik_ke[0] * omeges, harmonik_ke[1] * omeges]\n",
        "\n",
        "    # Filter data yang sesuai dengan rentang frekuensi tanpa interpolasi\n",
        "    mask = (frekuensinorm >= freq_range[0]) & (frekuensinorm <= freq_range[1])\n",
        "    intensitas_selected = intensitas_normalized_area[mask]\n",
        "\n",
        "    # Hitung energi harmonik dan energi total tanpa interpolasi\n",
        "    harmonic_energy = (np.sum(intensitas_selected))\n",
        "    ETS = (np.sum(intensitas_fundamental))\n",
        "    efficiency = harmonic_energy / ETS if ETS != 0 else 0  # Hindari pembagian dengan nol\n",
        "\n",
        "    # Simpan hasil ke dalam list\n",
        "    results.append({\n",
        "        'Harmonic Order': n,\n",
        "        'Efficiency': efficiency,\n",
        "        'Intensitas Harmonik': harmonic_energy,\n",
        "        'Intensitas Fundamental': ETS\n",
        "    })\n",
        "\n",
        "# Hitung efisiensi total\n",
        "# masktotal = (frekuensinorm >= 1.5)\n",
        "# inttes = intensitas_normalized_area[masktotal]\n",
        "# ETS0 = (np.sum(intensitas_fundamental)** 2)\n",
        "# harmonicenergy = (np.sum(inttes) ** 2)\n",
        "# efficiency_total = harmonicenergy / ETS0 if ETS0 != 0 else 0\n",
        "\n",
        "# Tampilkan efisiensi untuk setiap harmonik\n",
        "for result in results:\n",
        "    print(f\"Efficiency for Harmonic Order {result['Harmonic Order']}: {result['Efficiency']}\")\n",
        "\n",
        "# Tampilkan efisiensi total hanya sekali\n",
        "# print(f\"Overall Efficiency: {efficiency_total}\")\n",
        "\n",
        "# Simpan hasil ke dalam DataFrame dan kemudian ke CSV\n",
        "if beta == 0 or beta == 1:\n",
        "  nama_file1 = f\"Effinal {s1}.csv\"\n",
        "else:\n",
        "  nama_file1 = f\"Effinal {beta} {s1}.csv\"\n",
        "\n",
        "df_results = pd.DataFrame(results)\n",
        "df_results.to_csv(nama_file1, index=False)  # Simpan sebagai CSV\n"
      ],
      "metadata": {
        "id": "FOGt-ohdr4S3"
      },
      "execution_count": null,
      "outputs": []
    }
  ],
  "metadata": {
    "colab": {
      "provenance": [],
      "include_colab_link": true
    },
    "kernelspec": {
      "display_name": "Python 3",
      "name": "python3"
    },
    "language_info": {
      "name": "python"
    }
  },
  "nbformat": 4,
  "nbformat_minor": 0
}